{
 "cells": [
  {
   "cell_type": "code",
   "execution_count": 1,
   "metadata": {},
   "outputs": [
    {
     "data": {
      "text/html": [
       "<style>.container { width:100% !important; }</style>"
      ],
      "text/plain": [
       "<IPython.core.display.HTML object>"
      ]
     },
     "metadata": {},
     "output_type": "display_data"
    }
   ],
   "source": [
    "from IPython.core.display import display, HTML\n",
    "display(HTML(\"<style>.container { width:100% !important; }</style>\"))"
   ]
  },
  {
   "cell_type": "code",
   "execution_count": 2,
   "metadata": {},
   "outputs": [],
   "source": [
    "from alpha_vantage.alphavantage import AlphaVantage"
   ]
  },
  {
   "cell_type": "code",
   "execution_count": 3,
   "metadata": {},
   "outputs": [],
   "source": [
    "from alpha_vantage.fundamentaldata import FundamentalData\n",
    "from alpha_vantage.timeseries import TimeSeries"
   ]
  },
  {
   "cell_type": "code",
   "execution_count": 4,
   "metadata": {},
   "outputs": [],
   "source": [
    "import numpy as np\n",
    "import pandas as pd"
   ]
  },
  {
   "cell_type": "code",
   "execution_count": 5,
   "metadata": {},
   "outputs": [],
   "source": [
    "from pandas import DataFrame as df, Timestamp"
   ]
  },
  {
   "cell_type": "code",
   "execution_count": 6,
   "metadata": {},
   "outputs": [],
   "source": [
    "import csv"
   ]
  },
  {
   "cell_type": "code",
   "execution_count": 7,
   "metadata": {},
   "outputs": [],
   "source": [
    "import ast"
   ]
  },
  {
   "cell_type": "code",
   "execution_count": 8,
   "metadata": {},
   "outputs": [],
   "source": [
    "import requests"
   ]
  },
  {
   "cell_type": "code",
   "execution_count": 9,
   "metadata": {},
   "outputs": [
    {
     "name": "stdout",
     "output_type": "stream",
     "text": [
      "'6HZYCBP71FGOR1O5'\n"
     ]
    }
   ],
   "source": [
    "import random\n",
    "_API_KEY_TEST1 = 'G23MAAVKWB5TMPMV'\n",
    "_API_KEY_TEST2 = '6PE06AMZAM1MCGFX' #myanuarfirdaus\n",
    "_API_KEY_TEST3 = '6HZYCBP71FGOR1O5' #myanuarfirdaus23\n",
    "_API_KEY_TEST4 = 'X5LNMI2AESR1YQCU' #muh_yanuar_firdaus@yahoo.com\n",
    "_API_KEY_TEST5 = 'YBBKWRK4VSTP4GZH' #anggiengineer@yahoo.com\n",
    "\n",
    "names=[_API_KEY_TEST1,_API_KEY_TEST2,_API_KEY_TEST3,_API_KEY_TEST4,_API_KEY_TEST5]\n",
    "_API_KEY_TEST = \"\"\n",
    "def randomize () :\n",
    "    selected_names=set()\n",
    "    global _API_KEY_TEST\n",
    "    while len(selected_names)<1:\n",
    "        random.shuffle(names)\n",
    "        indx=random.randint(0,len(names)-1)\n",
    "        selected_names = names[indx]\n",
    "        _API_KEY_TEST = repr(selected_names)\n",
    "        print (_API_KEY_TEST)\n",
    "randomize()\n"
   ]
  },
  {
   "cell_type": "code",
   "execution_count": 10,
   "metadata": {},
   "outputs": [
    {
     "name": "stdout",
     "output_type": "stream",
     "text": [
      "Creation of the directory /Varians failed\n"
     ]
    }
   ],
   "source": [
    "#creating folder on C:\n",
    "import os\n",
    "\n",
    "# define the name of the directory to be created\n",
    "path = \"/Varians\"\n",
    "\n",
    "try:\n",
    "    os.makedirs(path)\n",
    "except OSError:\n",
    "    print (\"Creation of the directory %s failed\" % path)\n",
    "else:\n",
    "    print (\"Successfully created the directory %s\" % path)"
   ]
  },
  {
   "cell_type": "code",
   "execution_count": 11,
   "metadata": {},
   "outputs": [
    {
     "name": "stdout",
     "output_type": "stream",
     "text": [
      "Type stock market name here : AAPL\n"
     ]
    }
   ],
   "source": [
    "entity= input (\"Type stock market name here : \")"
   ]
  },
  {
   "cell_type": "code",
   "execution_count": 12,
   "metadata": {},
   "outputs": [
    {
     "name": "stdout",
     "output_type": "stream",
     "text": [
      "'X5LNMI2AESR1YQCU'\n",
      "'G23MAAVKWB5TMPMV'\n"
     ]
    }
   ],
   "source": [
    "#call data API Fundamental Quarterly\n",
    "fd = FundamentalData(key=_API_KEY_TEST, output_format='pandas')\n",
    "# Get json object with the intraday data and another with  the call's metadata\n",
    "\n",
    "data1, meta_data = fd.get_income_statement_quarterly(entity)  #get income statement quarterly data\n",
    "randomize()\n",
    "data2, meta_data = fd.get_cash_flow_quarterly(entity) #get cash flow quarterly data\n",
    "randomize()\n",
    "data3, meta_data = fd.get_balance_sheet_quarterly(entity) #get balance sheet quarterly data\n",
    "\n",
    "API_URL = \"https://www.alphavantage.co/query\"\n",
    "data = {\n",
    "     \"function\": \"OVERVIEW\",\n",
    "     \"symbol\": entity,\n",
    "     \"outputsize\": \"compact\",\n",
    "     \"datatype\": \"json\",\n",
    "     \"apikey\": _API_KEY_TEST,\n",
    "     }\n",
    "response = requests.get(API_URL, data)\n",
    "Company_Overview = response.json()\n"
   ]
  },
  {
   "cell_type": "code",
   "execution_count": 13,
   "metadata": {},
   "outputs": [
    {
     "name": "stdout",
     "output_type": "stream",
     "text": [
      "'6PE06AMZAM1MCGFX'\n"
     ]
    }
   ],
   "source": [
    "#call data timeseries last price monthly\n",
    "randomize()\n",
    "ts = TimeSeries(key=_API_KEY_TEST, output_format='pandas')\n",
    "last_price, meta_data = ts.get_monthly(entity)"
   ]
  },
  {
   "cell_type": "code",
   "execution_count": 14,
   "metadata": {
    "scrolled": true
   },
   "outputs": [],
   "source": [
    "#write API to csv as buffer file\n",
    "data1.to_csv(r'C:\\Varians\\Income Statement Quarterly.csv', index=None, header=True)\n",
    "data2.to_csv(r'C:\\Varians\\Cash Flow Quarterly.csv', index=None, header=True)\n",
    "data3.to_csv(r'C:\\Varians\\Balance Sheet Quarterly.csv', index=None, header=True)\n",
    "last_price.to_csv(r'C:\\Varians\\Last Price.csv', index=True, header=True)"
   ]
  },
  {
   "cell_type": "code",
   "execution_count": 15,
   "metadata": {},
   "outputs": [],
   "source": [
    "OV = {}\n",
    "OV = Company_Overview\n",
    "split_OV=OV"
   ]
  },
  {
   "cell_type": "code",
   "execution_count": 16,
   "metadata": {},
   "outputs": [],
   "source": [
    "#write tuple/list overview to csv file\n",
    "with open(r'C:\\Varians\\Overview2.csv', 'w') as g:\n",
    "    writer1=csv.writer(g,lineterminator='\\n')\n",
    "    writer1.writerow(split_OV.keys())\n",
    "    writer1.writerow(split_OV.values())"
   ]
  },
  {
   "cell_type": "code",
   "execution_count": 17,
   "metadata": {},
   "outputs": [],
   "source": [
    "#read csv file to pull data for calculation variable\n",
    "import pandas as pd\n",
    "with open(r'C:\\Varians\\Income Statement Quarterly.csv') as ISQ:\n",
    "    ISQ_reader = pd.read_csv(ISQ)\n",
    "    \n",
    "with open(r'C:\\Varians\\Cash Flow Quarterly.csv') as CFQ:\n",
    "    CFQ_reader = pd.read_csv(CFQ)\n",
    "    \n",
    "with open(r'C:\\Varians\\Balance Sheet Quarterly.csv') as BSQ:\n",
    "    BSQ_reader = pd.read_csv(BSQ)\n",
    "    \n",
    "with open(r'C:\\Varians\\Last Price.csv') as LP:\n",
    "    LP_reader = pd.read_csv(LP)"
   ]
  },
  {
   "cell_type": "code",
   "execution_count": 18,
   "metadata": {},
   "outputs": [],
   "source": [
    "#change date from object to datetime64\n",
    "ISQ_reader.fiscalDateEnding=ISQ_reader.fiscalDateEnding.astype('datetime64')\n",
    "ISQ_reader.replace(to_replace=['None'], value=np.nan, inplace=True) #to change string none to NaN\n",
    "ISQ_reader.fillna(value=0,inplace=True)\n",
    "CFQ_reader.fiscalDateEnding=CFQ_reader.fiscalDateEnding.astype('datetime64')\n",
    "CFQ_reader.replace(to_replace=['None'], value=np.nan, inplace=True)\n",
    "CFQ_reader.fillna(value=0,inplace=True)\n",
    "BSQ_reader.fiscalDateEnding=BSQ_reader.fiscalDateEnding.astype('datetime64')\n",
    "BSQ_reader.replace(to_replace=['None'], value=np.nan, inplace=True)\n",
    "BSQ_reader.fillna(value=0,inplace=True)\n",
    "BSQ_reader[\"commonStockSharesOutstanding\"] = BSQ_reader.commonStockSharesOutstanding.astype(float) #to change  data type of SO\n",
    "LP_reader.date=LP_reader.date.astype('datetime64')"
   ]
  },
  {
   "cell_type": "code",
   "execution_count": 19,
   "metadata": {},
   "outputs": [],
   "source": [
    "cols = BSQ_reader.columns.drop('fiscalDateEnding')\n",
    "BSQ_reader[cols] = BSQ_reader[cols].apply(pd.to_numeric, errors='coerce')\n",
    "cols = ISQ_reader.columns.drop('fiscalDateEnding')\n",
    "ISQ_reader[cols] = ISQ_reader[cols].apply(pd.to_numeric, errors='coerce')\n",
    "cols = CFQ_reader.columns.drop('fiscalDateEnding')\n",
    "CFQ_reader[cols] = CFQ_reader[cols].apply(pd.to_numeric, errors='coerce')"
   ]
  },
  {
   "cell_type": "code",
   "execution_count": 20,
   "metadata": {},
   "outputs": [],
   "source": [
    "#make fundamental data from quarterly to monthly and fill forward NaN data with previous quarterly data\n",
    "#this code only apply on int or float data types\n",
    "#resample made the date ascending, while data from time series is descending. Why not just LP became ascending? Because LP has longer date than the other data\n",
    "ISQ_monthly=ISQ_reader.resample('M', on='fiscalDateEnding').mean()\n",
    "ISQ_monthly.fillna(method='ffill',inplace=True)\n",
    "ISQ_monthly.sort_values(by=['fiscalDateEnding'], ascending=False, inplace=True)\n",
    "CFQ_monthly=CFQ_reader.resample('M', on='fiscalDateEnding').mean()\n",
    "CFQ_monthly.fillna(method='ffill',inplace=True)\n",
    "CFQ_monthly.sort_values(by=['fiscalDateEnding'], ascending=False, inplace=True)\n",
    "BSQ_monthly=BSQ_reader.resample('M', on='fiscalDateEnding').mean()\n",
    "BSQ_monthly.fillna(method='ffill',inplace=True)\n",
    "BSQ_monthly.sort_values(by=['fiscalDateEnding'], ascending=False, inplace=True)"
   ]
  },
  {
   "cell_type": "code",
   "execution_count": 21,
   "metadata": {},
   "outputs": [],
   "source": [
    "#function for add rows to fundamental rows to be equal with timeseries rows and fill nan\n",
    "def addrow(source,target,ori_table):\n",
    "    data=[]\n",
    "    #y=pd.DataFrame()\n",
    "    counter=0\n",
    "    for i in range(0,10):\n",
    "        if source[i]==target[0]:\n",
    "            break\n",
    "        counter+=1\n",
    "    for j in range(0,counter):\n",
    "        data.insert(j, {np.NaN,np.NaN,np.NaN})\n",
    "    y=pd.concat([pd.DataFrame(data), ori_table], ignore_index=True) #repeat for all variable\n",
    "    y.fillna(method='bfill',inplace=True)\n",
    "    return [y,counter]"
   ]
  },
  {
   "cell_type": "code",
   "execution_count": 22,
   "metadata": {},
   "outputs": [
    {
     "name": "stdout",
     "output_type": "stream",
     "text": [
      "         date  LastPrice            SO     netIncome            TA  \\\n",
      "0  2021-02-05     136.76  1.682326e+10  2.875500e+10  3.540540e+11   \n",
      "1  2021-01-29     131.96  1.682326e+10  2.875500e+10  3.540540e+11   \n",
      "2  2020-12-31     132.69  1.682326e+10  2.875500e+10  3.540540e+11   \n",
      "3  2020-11-30     119.05  1.697676e+10  1.267300e+10  3.238880e+11   \n",
      "4  2020-10-30     108.86  1.697676e+10  1.267300e+10  3.238880e+11   \n",
      "..        ...        ...           ...           ...           ...   \n",
      "58 2016-04-29      93.74  5.478446e+09  1.051600e+10  3.052770e+11   \n",
      "59 2016-03-31     108.99  5.478446e+09  1.051600e+10  3.052770e+11   \n",
      "60 2016-02-29      96.69  5.544487e+09  1.836100e+10  2.932840e+11   \n",
      "61 2016-01-29      97.34  5.544487e+09  1.836100e+10  2.932840e+11   \n",
      "62 2015-12-31     105.26  5.544487e+09  1.836100e+10  2.932840e+11   \n",
      "\n",
      "              TL           TSE          cash           STD           LTD  \\\n",
      "0   2.878300e+11  6.622400e+10  3.601000e+10  1.276200e+10  9.928100e+10   \n",
      "1   2.878300e+11  6.622400e+10  3.601000e+10  1.276200e+10  9.928100e+10   \n",
      "2   2.878300e+11  6.622400e+10  3.601000e+10  1.276200e+10  9.928100e+10   \n",
      "3   2.585490e+11  6.533900e+10  3.801600e+10  1.376900e+10  9.866700e+10   \n",
      "4   2.585490e+11  6.533900e+10  3.801600e+10  1.376900e+10  9.866700e+10   \n",
      "..           ...           ...           ...           ...           ...   \n",
      "58  1.748200e+11  1.304570e+11  2.151400e+10  1.049800e+10  6.937400e+10   \n",
      "59  1.748200e+11  1.304570e+11  2.151400e+10  1.049800e+10  6.937400e+10   \n",
      "60  1.650170e+11  1.282670e+11  1.668900e+10  9.759000e+09  5.320400e+10   \n",
      "61  1.650170e+11  1.282670e+11  1.668900e+10  9.759000e+09  5.320400e+10   \n",
      "62  1.650170e+11  1.282670e+11  1.668900e+10  9.759000e+09  5.320400e+10   \n",
      "\n",
      "            EBIT          DEPR  AMOR  \n",
      "0   3.357900e+10  2.666000e+09   0.0  \n",
      "1   3.357900e+10  2.666000e+09   0.0  \n",
      "2   3.357900e+10  2.666000e+09   0.0  \n",
      "3   1.823700e+10  2.702000e+09   0.0  \n",
      "4   1.823700e+10  2.702000e+09   0.0  \n",
      "..           ...           ...   ...  \n",
      "58  1.414200e+10  2.477000e+09   0.0  \n",
      "59  1.414200e+10  2.477000e+09   0.0  \n",
      "60  2.457300e+10  2.954000e+09   0.0  \n",
      "61  2.457300e+10  2.954000e+09   0.0  \n",
      "62  2.457300e+10  2.954000e+09   0.0  \n",
      "\n",
      "[63 rows x 13 columns]\n"
     ]
    }
   ],
   "source": [
    "#call all data needed for calculation and clean it first and wrap it into single variable list\n",
    "ISQ_monthly.reset_index(inplace=True)\n",
    "SO = BSQ_monthly['commonStockSharesOutstanding']\n",
    "netIncome = ISQ_monthly['netIncome']\n",
    "TA = BSQ_monthly['totalAssets']\n",
    "TL = BSQ_monthly['totalLiabilities']\n",
    "TSE = BSQ_monthly['totalShareholderEquity']\n",
    "cash = BSQ_monthly['cash']\n",
    "STD = BSQ_monthly['shortTermDebt']\n",
    "LTD = BSQ_monthly['longTermDebt']\n",
    "EBIT = ISQ_monthly['ebit']\n",
    "DEPR = CFQ_monthly['depreciation']\n",
    "AMOR = BSQ_monthly['accumulatedAmortization']\n",
    "\n",
    "dict_table=pd.DataFrame(list(zip(SO,netIncome,TA,TL,TSE,cash,STD,LTD,EBIT,DEPR,AMOR)))\n",
    "TS_table=LP_reader.loc[0:(len(netIncome)), ['date', '4. close']]\n",
    "\n",
    "tempaddrow=addrow(TS_table.date,ISQ_monthly.fiscalDateEnding,dict_table) #use addrow function to add row to equal TS table row with quarter table row\n",
    "datincome=pd.DataFrame(tempaddrow[0])\n",
    "counter=tempaddrow[1]\n",
    "allsindex=datincome.set_axis(['SO','netIncome','TA','TL','TSE','cash','STD','LTD','EBIT','DEPR','AMOR'], axis='columns')\n",
    "TS_table=LP_reader.loc[0:(len(netIncome)+counter), ['date', '4. close']]\n",
    "TS_table=TS_table.rename(columns={\"4. close\": \"LastPrice\"})\n",
    "inputmerge=TS_table.merge(allsindex, left_index=True, right_index=True)\n",
    "print(inputmerge)\n",
    "#print(tempaddrow)"
   ]
  },
  {
   "cell_type": "code",
   "execution_count": 23,
   "metadata": {},
   "outputs": [],
   "source": [
    "#function for making TTM data\n",
    "def makettm(tabtemp,x):\n",
    "    tabtemp = DataFrame(tabtemp)\n",
    "    width = x\n",
    "    shifted = tabtemp.shift(0)\n",
    "    window = shifted.rolling(window=width)\n",
    "    test = window.sum()\n",
    "    complete = test.fillna(value=0)\n",
    "    return complete"
   ]
  },
  {
   "cell_type": "code",
   "execution_count": 24,
   "metadata": {
    "scrolled": true
   },
   "outputs": [
    {
     "name": "stdout",
     "output_type": "stream",
     "text": [
      "     0     EPSTTM           NIQ         NITTM           SOQ\n",
      "0  NaN   7.684054  2.875500e+10  6.393000e+10  1.682326e+10\n",
      "1  NaN   7.684054  2.875500e+10  6.393000e+10  1.682326e+10\n",
      "2  NaN   7.684054  2.875500e+10  6.393000e+10  1.682326e+10\n",
      "3  NaN  11.045784  1.267300e+10  5.741100e+10  1.697676e+10\n",
      "4  NaN  11.045784  1.267300e+10  5.741100e+10  1.697676e+10\n",
      "..  ..        ...           ...           ...           ...\n",
      "58 NaN   0.000000  1.051600e+10  0.000000e+00  5.478446e+09\n",
      "59 NaN   0.000000  1.051600e+10  0.000000e+00  5.478446e+09\n",
      "60 NaN   0.000000  1.836100e+10  0.000000e+00  5.544487e+09\n",
      "61 NaN   0.000000  1.836100e+10  0.000000e+00  5.544487e+09\n",
      "62 NaN   0.000000  1.836100e+10  0.000000e+00  5.544487e+09\n",
      "\n",
      "[63 rows x 5 columns]\n",
      "                     NIQ           SOQ     EPSTTM         NITTM\n",
      "Date                                                           \n",
      "2020-12-31  2.875500e+10  1.682326e+10   7.684054  6.393000e+10\n",
      "2020-11-30  1.267300e+10  1.697676e+10  11.045784  5.741100e+10\n",
      "2020-10-31  1.267300e+10  1.697676e+10  11.045784  5.741100e+10\n",
      "2020-09-30  1.267300e+10  1.697676e+10  11.045784  5.741100e+10\n",
      "2020-08-31  1.125300e+10  4.283939e+09  13.379481  5.842400e+10\n",
      "...                  ...           ...        ...           ...\n",
      "2016-04-30  1.051600e+10  5.478446e+09   0.000000  0.000000e+00\n",
      "2016-03-31  1.051600e+10  5.478446e+09   0.000000  0.000000e+00\n",
      "2016-02-29  1.836100e+10  5.544487e+09   0.000000  0.000000e+00\n",
      "2016-01-31  1.836100e+10  5.544487e+09   0.000000  0.000000e+00\n",
      "2015-12-31  1.836100e+10  5.544487e+09   0.000000  0.000000e+00\n",
      "\n",
      "[61 rows x 4 columns]\n"
     ]
    }
   ],
   "source": [
    "#calculating EPS TTM (Trailing Twelve Months) for PER input\n",
    "\n",
    "#calculation for EPS Quarterly\n",
    "from pandas import DataFrame\n",
    "Tableeps =pd.DataFrame()\n",
    "Tableeps ['Date'] = ISQ_reader.fiscalDateEnding\n",
    "Tableeps ['NIQ'] = ISQ_reader.netIncome\n",
    "Tableeps ['SOQ'] = BSQ_reader.commonStockSharesOutstanding\n",
    "Tableeps = Tableeps.sort_index(ascending=False)\n",
    "Tableeps = Tableeps.reset_index(drop=True)\n",
    "EPStemps = [Tableeps.NIQ[i]/Tableeps.SOQ[i] for i in range(len(Tableeps.SOQ))]\n",
    "NIQtemps = Tableeps.NIQ\n",
    "\n",
    "#Make EPSTTM table from function makettm \n",
    "EPSTTM = makettm(EPStemps,4)\n",
    "#EPSTTM = EPSTTM.rename(columns={'EPS':'EPSTTM'})\n",
    "Tableeps ['EPSTTM'] = pd.DataFrame(EPSTTM)\n",
    "\n",
    "#make netIncome TTM table from function makettm\n",
    "NITTM = makettm(NIQtemps,4)\n",
    "Tableeps['NITTM']=pd.DataFrame(NITTM)\n",
    "\n",
    "Tableeps=Tableeps.resample('M', on='Date').mean()\n",
    "Tableeps.fillna(method='ffill',inplace=True)\n",
    "Tableeps = Tableeps.sort_index(ascending=False)\n",
    "Tableeps.reset_index(inplace=True)\n",
    "Coldate = Tableeps.Date\n",
    "Tableeps = Tableeps.set_index('Date')\n",
    "temp= addrow(TS_table.date,Coldate,Tableeps)\n",
    "TTMmonth = temp[0]\n",
    "print(TTMmonth)\n",
    "print(Tableeps)\n",
    "#gimana ngeluarin function result ke dataframe"
   ]
  },
  {
   "cell_type": "code",
   "execution_count": 25,
   "metadata": {
    "scrolled": true
   },
   "outputs": [
    {
     "name": "stdout",
     "output_type": "stream",
     "text": [
      "         Date  LastPrice      ShareOut     MarketCap       EPS     EPSTTM  \\\n",
      "33 2018-09-28     225.74  4.754986e+09  1.073391e+12  2.970566  12.093729   \n",
      "34 2018-10-31     218.86  4.754986e+09  1.040676e+12  2.970566  12.093729   \n",
      "35 2018-11-30     178.58  4.754986e+09  8.491454e+11  2.970566  12.093729   \n",
      "36 2018-12-31     157.74  4.729803e+09  7.460791e+11  4.221106  12.366315   \n",
      "37 2019-01-31     166.44  4.729803e+09  7.872284e+11  4.221106  12.366315   \n",
      "38 2019-02-28     173.15  4.729803e+09  8.189654e+11  4.221106  12.366315   \n",
      "39 2019-03-29     189.95  4.607284e+09  8.751536e+11  2.509287  12.079485   \n",
      "40 2019-04-30     200.67  4.607284e+09  9.245437e+11  2.509287  12.079485   \n",
      "41 2019-05-31     175.07  4.607284e+09  8.065972e+11  2.509287  12.079485   \n",
      "42 2019-06-28     197.92  4.531395e+09  8.968537e+11  2.216536  11.917496   \n",
      "43 2019-07-31     213.04  4.531395e+09  9.653684e+11  2.216536  11.917496   \n",
      "44 2019-08-30     208.74  4.531395e+09  9.458834e+11  2.216536  11.917496   \n",
      "45 2019-09-30     223.97  4.443236e+09  9.951516e+11  3.080188  12.027117   \n",
      "46 2019-10-31     248.76  4.443236e+09  1.105299e+12  3.080188  12.027117   \n",
      "47 2019-11-29     267.25  4.443236e+09  1.187455e+12  3.080188  12.027117   \n",
      "48 2019-12-31     293.65  4.384959e+09  1.287643e+12  5.070971  12.876982   \n",
      "49 2020-01-31     309.51  4.384959e+09  1.357189e+12  5.070971  12.876982   \n",
      "50 2020-02-28     273.36  4.384959e+09  1.198672e+12  5.070971  12.876982   \n",
      "51 2020-03-31     254.29  4.323987e+09  1.099547e+12  2.601534  12.969229   \n",
      "52 2020-04-30     293.80  4.323987e+09  1.270387e+12  2.601534  12.969229   \n",
      "53 2020-05-29     317.94  4.323987e+09  1.374768e+12  2.601534  12.969229   \n",
      "54 2020-06-30     364.80  4.283939e+09  1.562781e+12  2.626788  13.379481   \n",
      "55 2020-07-31     425.04  4.283939e+09  1.820845e+12  2.626788  13.379481   \n",
      "56 2020-08-31     129.04  4.283939e+09  5.527995e+11  2.626788  13.379481   \n",
      "57 2020-09-30     115.81  1.697676e+10  1.966079e+12  0.746491  11.045784   \n",
      "58 2020-10-30     108.86  1.697676e+10  1.848090e+12  0.746491  11.045784   \n",
      "59 2020-11-30     119.05  1.697676e+10  2.021084e+12  0.746491  11.045784   \n",
      "60 2020-12-31     132.69  1.682326e+10  2.232279e+12  1.709240   7.684054   \n",
      "61 2021-01-29     131.96  1.682326e+10  2.219998e+12  1.709240   7.684054   \n",
      "62 2021-02-05     136.76  1.682326e+10  2.300749e+12  1.709240   7.684054   \n",
      "\n",
      "          PER       BVPS        PBV       ROA%       ROE%            EV  \\\n",
      "33  18.665872  22.533610  10.017924  16.277531  55.560118  9.848205e+11   \n",
      "34  18.096982  22.533610   9.712603  16.277531  55.560118  9.521062e+11   \n",
      "35  14.766330  22.533610   7.925051  16.277531  55.560118  7.605754e+11   \n",
      "36  12.755618  24.925351   6.328497  15.902590  50.411393  6.761201e+11   \n",
      "37  13.459143  24.925351   6.677539  15.902590  50.411393  7.172694e+11   \n",
      "38  14.001746  24.925351   6.946743  15.902590  50.411393  7.490064e+11   \n",
      "39  15.725008  22.976660   8.267085  16.716472  54.005290  8.005116e+11   \n",
      "40  16.612464  22.976660   8.733645  16.716472  54.005290  8.499017e+11   \n",
      "41  14.493168  22.976660   7.619471  16.716472  54.005290  7.319552e+11   \n",
      "42  16.607516  21.286160   9.298060  17.283755  57.741354  8.389657e+11   \n",
      "43  17.876239  21.286160  10.008381  17.283755  57.741354  9.074804e+11   \n",
      "44  17.515425  21.286160   9.806372  17.283755  57.741354  8.879954e+11   \n",
      "45  18.622085  20.365337  10.997608  16.323010  61.064451  9.359486e+11   \n",
      "46  20.683261  20.365337  12.214873  16.323010  61.064451  1.046096e+12   \n",
      "47  22.220620  20.365337  13.122788  16.323010  61.064451  1.128252e+12   \n",
      "48  22.804257  20.417751  14.382093  16.889008  64.253722  1.219122e+12   \n",
      "49  24.035912  20.417751  15.158869  16.889008  64.253722  1.288668e+12   \n",
      "50  21.228577  20.417751  13.388350  16.889008  64.253722  1.130151e+12   \n",
      "51  19.607180  18.137196  14.020359  17.857366  72.955053  1.030214e+12   \n",
      "52  22.653622  18.137196  16.198755  17.857366  72.955053  1.201054e+12   \n",
      "53  24.514951  18.137196  17.529722  17.857366  72.955053  1.305435e+12   \n",
      "54  27.265632  16.872789  21.620610  18.410306  80.827869  1.483441e+12   \n",
      "55  31.768049  16.872789  25.190856  18.410306  80.827869  1.741505e+12   \n",
      "56   9.644619  16.872789   7.647817  18.410306  80.827869  4.734595e+11   \n",
      "57  10.484543   3.848731  30.090435  17.725572  87.866359  1.891659e+12   \n",
      "58   9.855344   3.848731  28.284645  17.725572  87.866359  1.773670e+12   \n",
      "59  10.777868   3.848731  30.932271  17.725572  87.866359  1.946664e+12   \n",
      "60  17.268229   3.936454  33.708003  18.056568  96.535999  2.156246e+12   \n",
      "61  17.173227   3.936454  33.522557  18.056568  96.535999  2.143965e+12   \n",
      "62  17.797898   3.936454  34.741928  18.056568  96.535999  2.224716e+12   \n",
      "\n",
      "          EBITDA  EV/EBITDA       D/E  Debt/Totalcap  Debt/EBITDA  \n",
      "33  2.279700e+10  43.199567  2.413301       0.516550     5.021845  \n",
      "34  2.279700e+10  41.764541  2.413301       0.516550     5.021845  \n",
      "35  2.279700e+10  33.362960  2.413301       0.516550     5.021845  \n",
      "36  3.390400e+10  19.942193  2.170012       0.493204     3.383966  \n",
      "37  3.390400e+10  21.155893  2.170012       0.493204     3.383966  \n",
      "38  3.390400e+10  22.091977  2.170012       0.493204     3.383966  \n",
      "39  2.088300e+10  38.333170  2.230663       0.515493     5.393382  \n",
      "40  2.088300e+10  40.698256  2.230663       0.515493     5.393382  \n",
      "41  2.088300e+10  35.050290  2.230663       0.515493     5.393382  \n",
      "42  1.864300e+10  45.001647  2.340788       0.529194     5.815480  \n",
      "43  1.864300e+10  48.676736  2.340788       0.529194     5.815480  \n",
      "44  1.864300e+10  47.631572  2.340788       0.529194     5.815480  \n",
      "45  2.329500e+10  40.178088  2.741004       0.544221     4.638206  \n",
      "46  2.329500e+10  44.906477  2.741004       0.544221     4.638206  \n",
      "47  2.329500e+10  48.433218  2.741004       0.544221     4.638206  \n",
      "48  3.100700e+10  39.317645  2.804470       0.547419     3.492502  \n",
      "49  3.100700e+10  41.560540  2.804470       0.547419     3.492502  \n",
      "50  3.100700e+10  36.448266  2.804470       0.547419     3.492502  \n",
      "51  1.946400e+10  52.929185  3.085432       0.582695     5.626130  \n",
      "52  1.946400e+10  61.706452  3.085432       0.582695     5.626130  \n",
      "53  1.946400e+10  67.069227  3.085432       0.582695     5.626130  \n",
      "54  1.933800e+10  76.711188  3.390360       0.609297     5.829093  \n",
      "55  1.933800e+10  90.056130  3.390360       0.609297     5.829093  \n",
      "56  1.933800e+10  24.483374  3.390360       0.609297     5.829093  \n",
      "57  2.093900e+10  90.341417  3.957039       0.632462     5.369693  \n",
      "58  2.093900e+10  84.706549  3.957039       0.632462     5.369693  \n",
      "59  2.093900e+10  92.968319  3.957039       0.632462     5.369693  \n",
      "60  3.624500e+10  59.490847  4.346309       0.628512     3.091268  \n",
      "61  3.624500e+10  59.152015  4.346309       0.628512     3.091268  \n",
      "62  3.624500e+10  61.379954  4.346309       0.628512     3.091268  \n",
      "Date             datetime64[ns]\n",
      "LastPrice               float64\n",
      "ShareOut                float64\n",
      "MarketCap               float64\n",
      "EPS                     float64\n",
      "EPSTTM                  float64\n",
      "PER                     float64\n",
      "BVPS                    float64\n",
      "PBV                     float64\n",
      "ROA%                    float64\n",
      "ROE%                    float64\n",
      "EV                      float64\n",
      "EBITDA                  float64\n",
      "EV/EBITDA               float64\n",
      "D/E                     float64\n",
      "Debt/Totalcap           float64\n",
      "Debt/EBITDA             float64\n",
      "dtype: object\n"
     ]
    },
    {
     "name": "stderr",
     "output_type": "stream",
     "text": [
      "<ipython-input-25-33b4e65ec785>:26: RuntimeWarning: divide by zero encountered in double_scalars\n",
      "  Calculation ['PER'] = [inputcalc.LastPrice[i]/temp.EPSTTM[i] for i in range(len(inputcalc.SO))]\n"
     ]
    }
   ],
   "source": [
    "#calculation\n",
    "#columns=['EPS']\n",
    "from pandas import DataFrame\n",
    "Calculation = pd.DataFrame()\n",
    "\n",
    "inputcalc = inputmerge\n",
    "inputcalc = inputcalc.sort_index(ascending=False)\n",
    "inputcalc = inputcalc.reset_index(drop=True)\n",
    "\n",
    "#for i in range (len(SO)):\n",
    "Calculation ['Date'] = inputcalc.date\n",
    "Calculation ['LastPrice'] = inputcalc.LastPrice\n",
    "Calculation ['ShareOut'] = inputcalc.SO\n",
    "Calculation ['MarketCap'] = [inputcalc.LastPrice[i]*inputcalc.SO[i] for i in range(len(inputcalc.SO))]\n",
    "Calculation ['EPS'] = [inputcalc.netIncome[i]/inputcalc.SO[i] for i in range(len(inputcalc.SO))]\n",
    "\n",
    "#Merging TTM EPS\n",
    "temp = pd.DataFrame()\n",
    "temp['EPSTTM'] = (TTMmonth.EPSTTM)\n",
    "temp['NITTM'] = TTMmonth.NITTM\n",
    "temp = temp.sort_index(ascending=False)\n",
    "temp.reset_index(inplace=True)\n",
    "#Calculation = Calculation.merge(EPSTTM, left_index=True, right_index=True)\n",
    "\n",
    "Calculation ['EPSTTM'] = temp.EPSTTM\n",
    "Calculation ['PER'] = [inputcalc.LastPrice[i]/temp.EPSTTM[i] for i in range(len(inputcalc.SO))]\n",
    "Calculation ['BVPS'] = [(inputcalc.TA[i]-inputcalc.TL[i])/inputcalc.SO[i] for i in range(len(inputcalc.SO))]\n",
    "Calculation ['PBV'] = [Calculation.LastPrice[i]/Calculation.BVPS[i] for i in range(len(inputcalc.SO))]\n",
    "Calculation ['ROA%'] = [temp.NITTM[i]/inputcalc.TA[i]*100 for i in range(len(inputcalc.SO))]\n",
    "Calculation ['ROE%'] = [temp.NITTM[i]/inputcalc.TSE[i]*100 for i in range(len(inputcalc.SO))]\n",
    "Calculation ['EV'] = [Calculation.MarketCap[i]+inputcalc.cash[i]-(inputcalc.STD[i]+inputcalc.LTD[i]) for i in range(len(inputcalc.SO))]\n",
    "Calculation ['EBITDA'] = [inputcalc.EBIT[i]+inputcalc.DEPR[i]+inputcalc.AMOR[i] for i in range(len(inputcalc.SO))]\n",
    "Calculation ['EV/EBITDA'] = [Calculation.EV[i]/Calculation.EBITDA[i] for i in range(len(inputcalc.SO))]\n",
    "Calculation ['D/E'] = [inputcalc.TL[i]/inputcalc.TSE[i] for i in range(len(inputcalc.TL))]\n",
    "Calculation ['Debt/Totalcap'] = [(inputcalc.STD[i]+inputcalc.LTD[i])/(inputcalc.STD[i]+inputcalc.LTD[i]+inputcalc.TSE[i]) for i in range(len(inputcalc.STD))]\n",
    "Calculation ['Debt/EBITDA'] = [(inputcalc.STD[i]+inputcalc.LTD[i])/Calculation.EBITDA[i] for i in range(len(inputcalc.STD)) ]\n",
    "\n",
    "Calculation = Calculation.replace([np.inf, -np.inf], 0)\n",
    "print(Calculation.tail(30))\n",
    "print(Calculation.dtypes)\n",
    "\n",
    "Calculation.to_csv(r'C:\\Varians\\Calculation.csv', index=None, header=True)"
   ]
  },
  {
   "cell_type": "code",
   "execution_count": 26,
   "metadata": {},
   "outputs": [],
   "source": [
    "#preparing pandas dataframe to list inputing to mysql\n",
    "\n",
    "import time\n",
    "mysql_list = []\n",
    "Unique_ID  = []\n",
    "StockName  = [entity.upper()]*len(Calculation['Date'])  \n",
    "\n",
    "for i in range (len(Calculation['Date'])) :\n",
    "    temp = entity + str(Calculation['Date'][i].strftime('%Y%m%d'))\n",
    "    Unique_ID.append(temp)\n",
    "    i += 1\n",
    "\n",
    "mysql_list.append(Unique_ID)\n",
    "mysql_list.append(StockName)\n",
    "\n",
    "for i in list(Calculation.columns) :\n",
    "    mysql_list.append(Calculation[i])\n",
    "    \n",
    "#print(mysql_list)\n",
    "# data table overview\n",
    "\n",
    "df_OV = pd.Series(OV, name='Info')\n",
    "df_OV.index.name = 'Data'\n",
    "list_header_OV = df_OV.index.tolist()"
   ]
  },
  {
   "cell_type": "code",
   "execution_count": 27,
   "metadata": {},
   "outputs": [],
   "source": [
    "#import module for mysql \n",
    "import mplfinance as mpf\n",
    "from os import path\n",
    "import mysql.connector as mysql"
   ]
  },
  {
   "cell_type": "code",
   "execution_count": 28,
   "metadata": {},
   "outputs": [],
   "source": [
    "def connect(db_name):\n",
    "    try:\n",
    "        return mysql.connect(\n",
    "            host='localhost',\n",
    "            user='root',\n",
    "            password='minyak23',\n",
    "            database=db_name)\n",
    "    except Error as e:\n",
    "        print(e)\n",
    "\n",
    "if __name__ == '__main__':\n",
    "    db = connect(\"newstockmarket\")\n",
    "    cursor = db.cursor()\n",
    "    \n",
    "    #--------------------------------------------------------------------------------------------------------------------------------------------------\n",
    "    ftable = \"stock_fundamental\"\n",
    "    ovtable = \"stock_overview\"\n",
    "    fintable = \"financial_report\"\n",
    "      \n",
    "    create_ovtable = (\"CREATE TABLE IF NOT EXISTS {table} \"\n",
    "                      #\" ( Stock_ID int(5) NOT NULL AUTO_INCREMENT PRIMARY KEY, \"\n",
    "                      \" ( SYMBOL VARCHAR(8) NOT NULL PRIMARY KEY, ASSET_TYPE VARCHAR(30), NAME VARCHAR(20) NOT NULL, \"\n",
    "                      \" DESCRIPTION VARCHAR(255), EXCHANGE VARCHAR(10), CURRENCY VARCHAR(5), \"\n",
    "                      \" COUNTRY VARCHAR(50), SECTOR VARCHAR(50), INDUSTRY VARCHAR(50), \"\n",
    "                      \" ADDRESS VARCHAR(255), Full_Time_Employees INT(20), Fiscal_Year_End VARCHAR(15), \"\n",
    "                      \" LATEST_QUARTER DATE, DividendDate DATE, ExDividendDate DATE, \"\n",
    "                      \" LastSplitFactor DECIMAL(5,2), LastSplitDate DATE )\"\n",
    "                     )\n",
    "    create_fintable = (\"CREATE TABLE IF NOT EXISTS {table} \"\n",
    "                      \" ( NUMBER int(5) NOT NULL AUTO_INCREMENT PRIMARY KEY, \"\n",
    "                      \" SYMBOL VARCHAR(8), MARKET_CAP DECIMAL(15,2), EBITDA DECIMAL(15,2), \"\n",
    "                      \" PER DECIMAL(15,2), PEGR DECIMAL(15,2), BOOK_VALUE DECIMAL(15,2), \"\n",
    "                      \" Dividend_Per_Share DECIMAL(15,2), Dividend_Yield DECIMAL(15,2), EPS DECIMAL(15,2), \"\n",
    "                      \" Revenue_Per_Share_TTM DECIMAL(15,2), Profit_Margin DECIMAL(15,2), Operating_Margin_TTM DECIMAL(15,2), \"\n",
    "                      \" ROA_TTM DECIMAL(15,2), ROE_TTM DECIMAL(15,2), REVENUE_TTM DECIMAL(15,2), \"\n",
    "                      \" Gross_Profit_TTM DECIMAL(15,2), Diluted_EPS_TTM DECIMAL(15,2), Quarterly_Earnings_Growth_YOY DECIMAL(15,2), \"\n",
    "                      \" Quarterly_Revenue_Growth_YOY DECIMAL(15,2), Analyst_Target_Price DECIMAL(15,2), Trailing_PE DECIMAL(15,2), \"\n",
    "                      \" Forward_PE DECIMAL(15,2), Price_to_Sales_Ratio_TTM DECIMAL(15,2), PBV DECIMAL(15,2), \"\n",
    "                      \" EVtoRevenue DECIMAL(15,2), EVtoEBITDA DECIMAL(15,2), Beta DECIMAL(15,2), \"\n",
    "                      \" 52WeekHigh DECIMAL(15,2), 52WeekLow DECIMAL(15,2), 50DayMovingAverage DECIMAL(15,2), \"\n",
    "                      \" 200DayMovingAverage DECIMAL(15,2), SharesOutstanding DECIMAL(15,2), SharesFloat DECIMAL(15,2), \" \n",
    "                      \" SharesShort DECIMAL(15,2), SharesShortPriorMonth DECIMAL(15,2), ShortRatio DECIMAL(15,2), \" \n",
    "                      \" ShortPercentOutstanding DECIMAL(15,2), ShortPercentFloat DECIMAL(15,2), PercentInsiders DECIMAL(15,2), \"\n",
    "                      \" PercentInstitutions DECIMAL(15,2), ForwardAnnualDividendRate DECIMAL(15,2), ForwardAnnualDividendYield DECIMAL(15,2), \" \n",
    "                      \" PayoutRatio DECIMAL(15,2) ) \"\n",
    "                      )\n",
    "    create_ftable = (\"CREATE TABLE IF NOT EXISTS {table} \"\n",
    "                   \" ( UNIQUE_ID VARCHAR(20) NOT NULL PRIMARY KEY, SYMBOL VARCHAR(8) NOT NULL, \"\n",
    "                   \" DATE date NOT NULL, LAST_PRICE_RP decimal(8, 2) NOT NULL,\"\n",
    "                   \" SHARE_OUT decimal(15, 2) NOT NULL, MARKET_CAP_RP decimal(15, 2) NOT NULL, \"\n",
    "                   \" DEVIDEN_RP decimal(15, 2) NOT NULL,  EPSTTMM_RP decimal(15, 2) NOT NULL, \"\n",
    "                   \" PER_X decimal(15, 2) NOT NULL, BVPS_RP decimal(15, 2) NOT NULL, \"\n",
    "                   \" PBV_X decimal(15, 2) NOT NULL, ROA_PERCENT decimal(15, 2) NOT NULL, \"\n",
    "                   \" ROE_PERCENT decimal(15, 2) NOT NULL, EV decimal(15, 2) NOT NULL, \"\n",
    "                   \" EBITDA decimal(15, 2) NOT NULL, EV_EBITDA_RATIO decimal(15, 2) NOT NULL, \"\n",
    "                   \" D_E_RATIO decimal(15, 2) NOT NULL, DEBT_TOTALCAP_RATIO decimal(15, 2) NOT NULL, \"\n",
    "                   \" DEBT_EBITDA_RATIO decimal(15, 2) NOT NULL) \"\n",
    "                   )\n",
    "\n",
    "    cursor = db.cursor()\n",
    "    cursor.execute(create_ovtable.format(table=ovtable) )                    \n",
    "    cursor.execute(create_fintable.format(table=fintable, atable=fintable) )                \n",
    "    cursor.execute(create_ftable.format(table=ftable, atable=ftable) )\n",
    "\n",
    "#------------------------------------------------------------------------------------------\n",
    "    insert_ovtable = (\"INSERT IGNORE INTO {table} \"\n",
    "                    \"( SYMBOL, ASSET_TYPE, \"\n",
    "                    \"NAME, DESCRIPTION, EXCHANGE, \"\n",
    "                    \"CURRENCY, COUNTRY, SECTOR, \"\n",
    "                    \"INDUSTRY, ADDRESS, Full_Time_Employees, \"\n",
    "                    \"Fiscal_Year_End, LATEST_QUARTER, DividendDate, \"\n",
    "                    \"ExDividendDate, LastSplitFactor, LastSplitDate ) \"\n",
    "                    \"VALUES (%s, %s, %s, %s, %s, %s, %s, %s, %s, %s, %s, %s, %s, %s, %s, %s, %s)\"\n",
    "                     )\n",
    "    temp_data = []\n",
    "    for i in range(13) :\n",
    "        single_data = df_OV[list_header_OV[i]]\n",
    "        temp_data.append(single_data)\n",
    "    for i in range(55, len(list_header_OV)) :\n",
    "        single_data = df_OV[list_header_OV[i]]\n",
    "        temp_data.append(single_data)\n",
    "    cursor.execute(insert_ovtable.format(table=ovtable), temp_data)\n",
    "    \n",
    "    insert_fintable = (\"INSERT IGNORE INTO {table} \"\n",
    "                        \"( SYMBOL, MARKET_CAP, EBITDA, \" \n",
    "                        \" PER, PEGR, BOOK_VALUE, \"\n",
    "                        \" Dividend_Per_Share, Dividend_Yield, EPS, \"\n",
    "                        \" Revenue_Per_Share_TTM, Profit_Margin, Operating_Margin_TTM, \"\n",
    "                        \" ROA_TTM, ROE_TTM, REVENUE_TTM, \"\n",
    "                        \" Gross_Profit_TTM, Diluted_EPS_TTM, Quarterly_Earnings_Growth_YOY, \"\n",
    "                        \" Quarterly_Revenue_Growth_YOY, Analyst_Target_Price, Trailing_PE, \"\n",
    "                        \" Forward_PE, Price_to_Sales_Ratio_TTM, PBV, \"\n",
    "                        \" EVtoRevenue, EVtoEBITDA, Beta, \"\n",
    "                        \" 52WeekHigh, 52WeekLow, 50DayMovingAverage, \"\n",
    "                        \" 200DayMovingAverage, SharesOutstanding, SharesFloat, \"\n",
    "                        \" SharesShort, SharesShortPriorMonth, ShortRatio, \"\n",
    "                        \" ShortPercentOutstanding, ShortPercentFloat, PercentInsiders, \"\n",
    "                        \" PercentInstitutions, ForwardAnnualDividendRate, ForwardAnnualDividendYield, PayoutRatio ) \"\n",
    "                        \" VALUES (%s, %s, %s, %s, %s, %s, %s, %s, %s, %s, %s, %s, %s, %s, \"\n",
    "                        \" %s, %s, %s, %s, %s, %s, %s, %s, %s, %s, %s, %s, %s, %s, \"\n",
    "                        \" %s, %s, %s, %s, %s, %s, %s, %s, %s, %s, %s, %s, %s, %s, %s )\"\n",
    "                      )\n",
    "    temp_data = []\n",
    "    temp_data.append(entity)\n",
    "    for i in range(13, 55) :\n",
    "        single_data = df_OV[list_header_OV[i]]\n",
    "        temp_data.append(single_data)\n",
    "    cursor.execute(insert_fintable.format(table=fintable), temp_data)\n",
    "\n",
    "    insert_ftable = (\"INSERT IGNORE INTO {table} \"\n",
    "                   \"(UNIQUE_ID, SYMBOL, DATE, LAST_PRICE_RP, SHARE_OUT, MARKET_CAP_RP, \"\n",
    "                   \"DEVIDEN_RP, EPSTTMM_RP, PER_X, BVPS_RP, PBV_X, ROA_PERCENT, ROE_PERCENT, \"\n",
    "                   \"EV, EBITDA, EV_EBITDA_RATIO, D_E_RATIO, DEBT_TOTALCAP_RATIO, \"\n",
    "                   \"DEBT_EBITDA_RATIO) \"\n",
    "                   \"VALUES (%s, %s, %s, %s, %s, %s, %s, %s, %s, %s, %s, %s, %s, %s, %s, %s, %s, %s, %s)\")\n",
    "    j = 0\n",
    "    while j < len(mysql_list[0]) :\n",
    "        temp_data = []\n",
    "        i = 0\n",
    "        while i < len(mysql_list) :\n",
    "            temp_data.append(str (mysql_list[i][j]))\n",
    "            #print(project_data)\n",
    "            i += 1\n",
    "        \n",
    "        cursor.execute(insert_ftable.format(table=ftable), temp_data)\n",
    "        j += 1\n",
    "        \n",
    "    db.commit()\n",
    "\n",
    "    #select_table = (\"SELECT * FROM {table} \")\n",
    "    #cursor.execute(select_table.format(table=ftable))\n",
    "    #project_records = cursor.fetchall()\n",
    "    \n",
    "    #print(project_records)\n",
    "\n",
    "    db.close()"
   ]
  },
  {
   "cell_type": "code",
   "execution_count": 29,
   "metadata": {},
   "outputs": [
    {
     "name": "stdout",
     "output_type": "stream",
     "text": [
      "Data\n",
      "Symbol                                                                     AAPL\n",
      "AssetType                                                          Common Stock\n",
      "Name                                                                  Apple Inc\n",
      "Description                   Apple Inc. designs, manufactures, and markets ...\n",
      "Exchange                                                                 NASDAQ\n",
      "Currency                                                                    USD\n",
      "Country                                                                     USA\n",
      "Sector                                                               Technology\n",
      "Industry                                                   Consumer Electronics\n",
      "Address                       One Apple Park Way, Cupertino, CA, United Stat...\n",
      "FullTimeEmployees                                                        147000\n",
      "FiscalYearEnd                                                         September\n",
      "LatestQuarter                                                        2020-12-31\n",
      "MarketCapitalization                                              2295940513792\n",
      "EBITDA                                                              85159002112\n",
      "PERatio                                                                 37.0925\n",
      "PEGRatio                                                                 3.0491\n",
      "BookValue                                                                 3.936\n",
      "DividendPerShare                                                           0.82\n",
      "DividendYield                                                             0.006\n",
      "EPS                                                                       3.687\n",
      "RevenuePerShareTTM                                                        17.13\n",
      "ProfitMargin                                                             0.2174\n",
      "OperatingMarginTTM                                                       0.2525\n",
      "ReturnOnAssetsTTM                                                        0.1336\n",
      "ReturnOnEquityTTM                                                        0.8209\n",
      "RevenueTTM                                                         294135005184\n",
      "GrossProfitTTM                                                     104956000000\n",
      "DilutedEPSTTM                                                             3.687\n",
      "QuarterlyEarningsGrowthYOY                                                0.344\n",
      "QuarterlyRevenueGrowthYOY                                                 0.214\n",
      "AnalystTargetPrice                                                       150.19\n",
      "TrailingPE                                                              37.0925\n",
      "ForwardPE                                                                 31.25\n",
      "PriceToSalesRatioTTM                                                     7.9016\n",
      "PriceToBookRatio                                                        33.9544\n",
      "EVToRevenue                                                              7.7645\n",
      "EVToEBITDA                                                              25.8397\n",
      "Beta                                                                     1.2679\n",
      "52WeekHigh                                                             144.8735\n",
      "52WeekLow                                                               52.7436\n",
      "50DayMovingAverage                                                     133.3103\n",
      "200DayMovingAverage                                                     119.943\n",
      "SharesOutstanding                                                   16788100096\n",
      "SharesFloat                                                         16770972142\n",
      "SharesShort                                                            99897228\n",
      "SharesShortPriorMonth                                                  91091816\n",
      "ShortRatio                                                                 0.88\n",
      "ShortPercentOutstanding                                                    0.01\n",
      "ShortPercentFloat                                                         0.006\n",
      "PercentInsiders                                                           0.065\n",
      "PercentInstitutions                                                      59.662\n",
      "ForwardAnnualDividendRate                                                  0.82\n",
      "ForwardAnnualDividendYield                                                0.006\n",
      "PayoutRatio                                                              0.2216\n",
      "DividendDate                                                         2021-02-11\n",
      "ExDividendDate                                                       2021-02-05\n",
      "LastSplitFactor                                                             4:1\n",
      "LastSplitDate                                                        2020-08-31\n",
      "Name: Info, dtype: object\n"
     ]
    }
   ],
   "source": [
    "print(df_OV)"
   ]
  },
  {
   "cell_type": "code",
   "execution_count": 30,
   "metadata": {},
   "outputs": [
    {
     "name": "stdout",
     "output_type": "stream",
     "text": [
      "{'Symbol': 'AAPL', 'AssetType': 'Common Stock', 'Name': 'Apple Inc', 'Description': 'Apple Inc. designs, manufactures, and markets smartphones, personal computers, tablets, wearables, and accessories worldwide. It also sells various related services. The company offers iPhone, a line of smartphones; Mac, a line of personal computers; iPad, a line of multi-purpose tablets; and wearables, home, and accessories comprising AirPods, Apple TV, Apple Watch, Beats products, HomePod, iPod touch, and other Apple-branded and third-party accessories. It also provides AppleCare support services; cloud services store services; and operates various platforms, including the App Store, that allow customers to discover and download applications and digital content, such as books, music, video, games, and podcasts. In addition, the company offers various services, such as Apple Arcade, a game subscription service; Apple Music, which offers users a curated listening experience with on-demand radio stations; Apple News+, a subscription news and magazine service; Apple TV+, which offers exclusive original content; Apple Card, a co-branded credit card; and Apple Pay, a cashless payment service, as well as licenses its intellectual property. The company serves consumers, and small and mid-sized businesses; and the education, enterprise, and government markets. It sells and delivers third-party applications for its products through the App Store. The company also sells its products through its retail and online stores, and direct sales force; and third-party cellular network carriers, wholesalers, retailers, and resellers. Apple Inc. was founded in 1977 and is headquartered in Cupertino, California.', 'Exchange': 'NASDAQ', 'Currency': 'USD', 'Country': 'USA', 'Sector': 'Technology', 'Industry': 'Consumer Electronics', 'Address': 'One Apple Park Way, Cupertino, CA, United States, 95014', 'FullTimeEmployees': '147000', 'FiscalYearEnd': 'September', 'LatestQuarter': '2020-12-31', 'MarketCapitalization': '2295940513792', 'EBITDA': '85159002112', 'PERatio': '37.0925', 'PEGRatio': '3.0491', 'BookValue': '3.936', 'DividendPerShare': '0.82', 'DividendYield': '0.006', 'EPS': '3.687', 'RevenuePerShareTTM': '17.13', 'ProfitMargin': '0.2174', 'OperatingMarginTTM': '0.2525', 'ReturnOnAssetsTTM': '0.1336', 'ReturnOnEquityTTM': '0.8209', 'RevenueTTM': '294135005184', 'GrossProfitTTM': '104956000000', 'DilutedEPSTTM': '3.687', 'QuarterlyEarningsGrowthYOY': '0.344', 'QuarterlyRevenueGrowthYOY': '0.214', 'AnalystTargetPrice': '150.19', 'TrailingPE': '37.0925', 'ForwardPE': '31.25', 'PriceToSalesRatioTTM': '7.9016', 'PriceToBookRatio': '33.9544', 'EVToRevenue': '7.7645', 'EVToEBITDA': '25.8397', 'Beta': '1.2679', '52WeekHigh': '144.8735', '52WeekLow': '52.7436', '50DayMovingAverage': '133.3103', '200DayMovingAverage': '119.943', 'SharesOutstanding': '16788100096', 'SharesFloat': '16770972142', 'SharesShort': '99897228', 'SharesShortPriorMonth': '91091816', 'ShortRatio': '0.88', 'ShortPercentOutstanding': '0.01', 'ShortPercentFloat': '0.006', 'PercentInsiders': '0.065', 'PercentInstitutions': '59.662', 'ForwardAnnualDividendRate': '0.82', 'ForwardAnnualDividendYield': '0.006', 'PayoutRatio': '0.2216', 'DividendDate': '2021-02-11', 'ExDividendDate': '2021-02-05', 'LastSplitFactor': '4:1', 'LastSplitDate': '2020-08-31'}\n"
     ]
    }
   ],
   "source": [
    "print (OV)"
   ]
  },
  {
   "cell_type": "code",
   "execution_count": null,
   "metadata": {},
   "outputs": [],
   "source": []
  }
 ],
 "metadata": {
  "kernelspec": {
   "display_name": "Python 3",
   "language": "python",
   "name": "python3"
  },
  "language_info": {
   "codemirror_mode": {
    "name": "ipython",
    "version": 3
   },
   "file_extension": ".py",
   "mimetype": "text/x-python",
   "name": "python",
   "nbconvert_exporter": "python",
   "pygments_lexer": "ipython3",
   "version": "3.8.5"
  }
 },
 "nbformat": 4,
 "nbformat_minor": 4
}
